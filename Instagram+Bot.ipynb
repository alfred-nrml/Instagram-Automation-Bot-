{
 "cells": [
  {
   "cell_type": "code",
   "execution_count": 1,
   "id": "1c349139",
   "metadata": {},
   "outputs": [
    {
     "ename": "ModuleNotFoundError",
     "evalue": "No module named 'selenium'",
     "output_type": "error",
     "traceback": [
      "\u001b[1;31m---------------------------------------------------------------------------\u001b[0m",
      "\u001b[1;31mModuleNotFoundError\u001b[0m                       Traceback (most recent call last)",
      "Cell \u001b[1;32mIn[1], line 1\u001b[0m\n\u001b[1;32m----> 1\u001b[0m \u001b[38;5;28;01mfrom\u001b[39;00m \u001b[38;5;21;01mselenium\u001b[39;00m \u001b[38;5;28;01mimport\u001b[39;00m webdriver\n\u001b[0;32m      2\u001b[0m \u001b[38;5;28;01mfrom\u001b[39;00m \u001b[38;5;21;01mselenium\u001b[39;00m\u001b[38;5;21;01m.\u001b[39;00m\u001b[38;5;21;01mwebdriver\u001b[39;00m\u001b[38;5;21;01m.\u001b[39;00m\u001b[38;5;21;01mcommon\u001b[39;00m\u001b[38;5;21;01m.\u001b[39;00m\u001b[38;5;21;01mkeys\u001b[39;00m \u001b[38;5;28;01mimport\u001b[39;00m Keys\n\u001b[0;32m      3\u001b[0m \u001b[38;5;28;01mfrom\u001b[39;00m \u001b[38;5;21;01mselenium\u001b[39;00m\u001b[38;5;21;01m.\u001b[39;00m\u001b[38;5;21;01mcommon\u001b[39;00m\u001b[38;5;21;01m.\u001b[39;00m\u001b[38;5;21;01mexceptions\u001b[39;00m \u001b[38;5;28;01mimport\u001b[39;00m ElementClickInterceptedException\n",
      "\u001b[1;31mModuleNotFoundError\u001b[0m: No module named 'selenium'"
     ]
    }
   ],
   "source": [
    "from selenium import webdriver\n",
    "from selenium.webdriver.common.keys import Keys\n",
    "from selenium.common.exceptions import ElementClickInterceptedException\n",
    "import time"
   ]
  },
  {
   "cell_type": "code",
   "execution_count": null,
   "id": "02ea8805",
   "metadata": {},
   "outputs": [],
   "source": [
    "ACC_NAME = 'johncena'\n",
    "USERNAME = 'alfred_nrml'\n",
    "PASSWORD = 'password'\n",
    "PATH = '/Users/apple/Desktop/driver/chromedriver'"
   ]
  },
  {
   "cell_type": "code",
   "execution_count": null,
   "id": "95f76dce",
   "metadata": {},
   "outputs": [],
   "source": [
    "class InstagramBot:\n",
    "    def __init__(self, path):\n",
    "        self.driver = webdriver.Chrome(executable_path=path)\n",
    "        \n",
    "    def login(self):\n",
    "        self.driver.get('https://www.instagram.com/accounts/login')\n",
    "        time.sleep(5)\n",
    "        \n",
    "        username = self.driver.find_element_by_name('username')\n",
    "        password = self.driver.find_element_by_name('password')\n",
    "        \n",
    "        username.send_keys(USERNAME)\n",
    "        password.send_keys(PASSWORD)\n",
    "        \n",
    "        time.sleep(2)\n",
    "        password.send_keys(Keys.ENTER)\n",
    "        \n",
    "    def find_user(self, account_name):\n",
    "        time.sleep(5)\n",
    "        self.driver.get(f'https://www.instagram.com/{account_name}')\n",
    "        time.sleep(5)\n",
    "        \n",
    "        follow = self.driver.find_element_by_xpath('/html/body/div[2]/div/div/div[2]/div/div/div[1]/div[1]/div[2]/div[2]/section/main/div/header/section/div[1]/div[2]/div/div[1]/button')\n",
    "        follow.click()\n",
    "        time.sleep(2)\n",
    "        \n",
    "        followers = self.driver.find_element_by_css_selector('li a ._ac2a')\n",
    "        followers.click()\n",
    "        \n",
    "    def follow(self, number):\n",
    "        time.sleep(5)\n",
    "        follow_buttons = []\n",
    "        for i in range(1, number + 1):\n",
    "            btn = self.driver.find_element_by_xpath(f'/html/body/div[6]/div[1]/div/div[2]/div/div/div/div/div[2]/div/div/div[2]/div[2]/div/div[{i}]/div/div/div/div[3]/div/button')\n",
    "            follow_buttons.append(btn)\n",
    "            \n",
    "        for button in follow_buttons:\n",
    "            try:\n",
    "                button.click()\n",
    "                time.sleep(1)\n",
    "            except ElementClickInterceptedException:\n",
    "                print(\"Click has been intercepted by a modal\")\n",
    "    \n",
    "    def close(self):\n",
    "        self.driver.quit()"
   ]
  },
  {
   "cell_type": "code",
   "execution_count": null,
   "id": "399d83ff",
   "metadata": {},
   "outputs": [],
   "source": [
    "bot = InstagramBot(PATH)\n",
    "bot.login()\n",
    "bot.find_user('johncena')\n",
    "bot.follow(5)\n",
    "bot.close()\n",
    "bot1 = InstagramBot(PATH)\n",
    "b0t2 = InstagramBot(PATH)\n",
    "bot3 = InstagramBot(PATH)"
   ]
  },
  {
   "cell_type": "code",
   "execution_count": null,
   "id": "bdd73733",
   "metadata": {},
   "outputs": [],
   "source": []
  }
 ],
 "metadata": {
  "kernelspec": {
   "display_name": "Python 3 (ipykernel)",
   "language": "python",
   "name": "python3"
  },
  "language_info": {
   "codemirror_mode": {
    "name": "ipython",
    "version": 3
   },
   "file_extension": ".py",
   "mimetype": "text/x-python",
   "name": "python",
   "nbconvert_exporter": "python",
   "pygments_lexer": "ipython3",
   "version": "3.11.7"
  }
 },
 "nbformat": 4,
 "nbformat_minor": 5
}
